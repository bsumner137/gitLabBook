{
 "cells": [
  {
   "cell_type": "markdown",
   "metadata": {},
   "source": [
    "# X-Ray Diffraction Lab Book\n",
    "## 27 February 2018"
   ]
  },
  {
   "cell_type": "code",
   "execution_count": 1,
   "metadata": {},
   "outputs": [],
   "source": [
    "import numpy as np\n",
    "import matplotlib.pyplot as plt\n",
    "import pandas as pd"
   ]
  },
  {
   "cell_type": "markdown",
   "metadata": {},
   "source": [
    "Whenever we have a peak in the intensity of the refracted light, we know that the change in wave vector \n",
    "\\begin{align}\n",
    "\t\\textbf{K} = \\textbf{k}+\\textbf{k}_0 \\label{eq:recip_lattice}\n",
    "\\end{align} must also be a vector of the reciprocal lattice, $\\textbf{R}$\\cite{AandM_SS}.  If the scattering is elastic, then the magnitude of the incident and scattered wave vectors must be equal, and $k^2 = k_0^2$. Dotting the above equation with itself:\n",
    "\n",
    "\\begin{align}\n",
    "\t\\textbf{k}\\cdot\\textbf{k} &= \\left(\\textbf{K}-\\textbf{k}_0\\right)\\cdot\\left(\\textbf{K}-\\textbf{k}_0\\right)\\nonumber\\\\\n",
    "\tk^2 &= K^2 + k_0^2 - 2 \\textbf{K} \\cdot \\textbf{k}_0 \\nonumber\\\\\n",
    "\tK^2 &= 2 \\textbf{K} \\cdot \\textbf{k}_0 \\nonumber\\\\\n",
    "\t&= 2 K K_0 \\cos(\\frac{\\pi - \\varphi}{2}) \\nonumber\\\\\n",
    "\t& \\implies K = 2k_0 \\sin(\\frac{\\varphi}{2}) \\label{eq:scatter}\n",
    "\\end{align}\n",
    "\n",
    "We know from Bravais' Theorem that there are only 14 possible distinct lattices.  By determining the relative sizes of the lattice vectors of the various possible lattices, we can compare the scattering angle.  The previous equation shows that the smallest scattering angles  come from the smallest lattice vectors.  By taking the ratio of lattice vectors relative to the smallest one, we get:\n",
    "\n",
    "\\begin{align}\n",
    "\t\\frac{K_i}{K_1} &= \\frac{R_i}{R_1} =  \\frac{\\sin(\\frac{\\varphi_i}{2})}{\\sin(\\frac{\\varphi_1}{2})} \\label{eq:ratio}\n",
    "\\end{align}\n",
    "\n",
    "So by comparing the ratio of scattering angles, we can determine which lattice vectors are present in the crystal."
   ]
  },
  {
   "cell_type": "code",
   "execution_count": null,
   "metadata": {},
   "outputs": [],
   "source": [
    "class xRayData:\n",
    "    def __init__(self, filepath):\n",
    "        \"\"\"\n",
    "        Given a file containing diffraction angle vs. intensity data\n",
    "        Parses the data into a plot of the intensity as a function of angle, which can be called if needed\n",
    "        Finds the angular location of the peaks, and then determines the ratios of the lattice vector lengths,\n",
    "        displaying them as 1:R2/R1:R3/R1:...\n",
    "        \"\"\"\n",
    "        self.data = pd.read_csv(filepath, skiprows = 21, names = [x_units, y_units])\n",
    "        \n",
    "    def data"
   ]
  }
 ],
 "metadata": {
  "kernelspec": {
   "display_name": "Python 3",
   "language": "python",
   "name": "python3"
  },
  "language_info": {
   "codemirror_mode": {
    "name": "ipython",
    "version": 3
   },
   "file_extension": ".py",
   "mimetype": "text/x-python",
   "name": "python",
   "nbconvert_exporter": "python",
   "pygments_lexer": "ipython3",
   "version": "3.5.2"
  }
 },
 "nbformat": 4,
 "nbformat_minor": 2
}
