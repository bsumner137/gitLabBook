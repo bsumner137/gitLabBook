{
 "cells": [
  {
   "cell_type": "markdown",
   "metadata": {},
   "source": [
    "# Final Project Lab Notebook\n",
    "## Measuring the Temperature of a MOT"
   ]
  },
  {
   "cell_type": "markdown",
   "metadata": {},
   "source": [
    "### Week of 9 April\n",
    "\n",
    "Bjorn was absent for this week on jury duty.\n",
    "\n",
    "Because this experiment is basically an extension and combination of the Laser Spectroscopy lab and the Atom Trapping lab, Ben spent the week setting up the work we had done before to combine the labs.\n",
    "\n",
    "Additionally, we were able to choose a camera with a sufficiently high frame rate that we should be able to capture the expansion of the MOT. Furthermore, we will need a high speed shutter to block the imaging beam until we are ready to image the atoms.  We expect the process to be destructive, so we must have the shutter in place so the image beam interacts with the atoms only at the specific time we are interested in.  \n",
    "\n",
    "The camera we chose is the [Allied Vision Mako U-029B](https://www.alliedvision.com/en/products/cameras/detail/Mako%20U/U-029.html).  This is a CMOS camera with a resolution of 640x480, pixel pitch 4.8x4.8 $\\mu$m, and a 550 fps frame rate at maximum resolution.\n",
    "\n",
    "We found a high speed [ED12DSS shutter driver](https://www.uniblitz.com/products/ed12dss-shutter-driver/) with the [TS6B 6mm laser shutter](https://www.uniblitz.com/products/ts6b/) to achieve this imaging goal."
   ]
  },
  {
   "cell_type": "markdown",
   "metadata": {},
   "source": [
    "### 17 April 2018\n",
    "\n",
    "The camera came in monday, and we spent the day getting it setup.  Unfortunately, though the website promises linux support, the reality is different.  We instead hijacked the NMR Lab computer, since setting up the camera on that was much more straightforward."
   ]
  },
  {
   "cell_type": "markdown",
   "metadata": {},
   "source": [
    "### 18 April 2018\n",
    "\n",
    "We had trouble getting the fine structure peaks to show up on the Laser Spectroscopy Table, so we had to rebuild the setup to increase the overlap between the probe and pump beams.  After careful alignment, the peaks became much more apparent, and we are now ready to use the beam pickoff to for imaging the MOT.\n",
    "\n",
    "Furthermore, there was an issue with the laser servos not locking on the peaks.  According to the manual, when using the RAMP TTL on the back of the laser servo as the trigger, the trigger on the oscilloscope will need to be set to **positive** slope.  When in *side lock* mode, the servo will lock the laser \"...to the point where the DC ERROR crosses zero voltage with **positive** slope, and when the oscilloscope is triggering to the RAMP TTL with positive slope.\"\n",
    "\n",
    "I was unable to get a MOT for the longest time using this technique, while Ben was able to get it by flipping the sign of the gain and locking to the negative slope.  This puzzled me, but then Ben pointed out the oscilloscope was inverting the signal.  Once we put the oscilloscopes \"right side up,\" the trapping and pump lasers locked on the proper frequecy, and we obtained a MOT!\n",
    "\n",
    "The process is described below:\n",
    "\n",
    "**Servoing the Trap and Pump Lasers**\n",
    "* Make sure LASER switch is set to OFF/RESET and LASER STATE to RAMP.\n",
    "\n",
    "* Turn on System Power to D2-005 and Oscilloscope.  Allow time for system to warm up.\n",
    "    * A green light next to T2 will turn on in $\\approx$ 1 minute.\n",
    "    * A green light next to T1 will turn on in $\\approx$ 2 minutes.\n",
    "    * If they turn red, there is an error condition.  Check manual.\n",
    "    \n",
    "* Flip Laser switch to \"on\"\n",
    "    * A green light next to \"Laser On\" will appear, and $\\approx$ 5 seconds later the lasers should turn on.\n",
    "    * The laser contoller display should be $\\approx$ 148 mA for the Trapping laser, and $\\approx$ 139 mA for the repump.\n",
    "    \n",
    "* Translate viewing window until the square wave (trigger signal) is positive.  This is the interval we will lock within.\n",
    "    * Ensure RAMP AMP on the laser servo is at maximum (far clockwise).\n",
    "\n",
    "* Adjust the coarse and fine controls until the desired hyperfine peak is roughly in the center of the positive square wave.\n",
    "    * Make sure oscilloscope is set to INVERT = OFF\n",
    "    \n",
    "* Slowly dial back the RAMP AMP (CCW) until the desired portion of the hyperfine peak is the only feature in the square wave.\n",
    "    * There is a point about which the entire spectrum expands when the RAMP AMP is dialed back.  It is here that we want our desired part of the spectrum to be.\n",
    "    \n",
    "* Once 'zoomed in' as much as possible, adjust the DC OFFSET tinpot with a screwdriver until the desired portion is at 0 V.\n",
    "\n",
    "* The laser locks to the point where DC ERROR crosses zero voltage with a positive slope AND when the oscilloscope is triggering to the RAMP TTL with positive slope.\n",
    "\n",
    "* Flip LASER STATE switch from RAMP to LOCK.\n",
    "\n",
    "* The DC ERROR should now be reading 0 V with some noise.\n",
    "\n",
    "* Adjust COURSE and FINE GAIN to minimize noise in DC ERROR.\n",
    "\n",
    "* Ensure LD OUT is less than $\\approx$ 50 mV.\n",
    "\n",
    "* Laser is now locked.  If both lasers are locked to the correct transitions and the polarizations are correct (with Anti-Helmholtz coils active), a MOT should be forming in the chamber.\n",
    "\n",
    "**Laser Spectroscopy Table**\n",
    "Our intitial setup of the spectroscopy table did not provide sufficient resolution of the hyperfine peaks for this experiment.  We had to reset our tabletop to ensure a greater overlap of the probe beam with the pump beam.  Once this was complete, we found the enhancement of the hyperfine spectrum we desired.\n",
    "\n",
    "**Camera Setup**\n",
    "\n",
    "We got the camera working on the NMR all-in-one yesterday, so we also built a mount for the camera and its lens.  We now have a mount that allows rotation (tilt) of the camera and its attached lens.\n",
    "\n",
    "However, the angle of the camera relative to the height of the MOT has me cautious.  One of the features we will examine is the free fall of the MOT after shutting off confinement.  If the camera is not 'even' with the MOT, the distance we measure will be a projection in a different plane, not the true distance fallen.\n",
    "\n",
    "Additionally, we will need to put some lenses in place to have the largest numerical aperture possible and maximize the information available from the absorption imaging.\n",
    "\n",
    "I had thought to place several lenses close to the MOT to form a telescope, but it might be tricky with the addition of the large lens added to the camera as it is currently setup.  We may need to replace the large lens currently installed with the smaller one.\n",
    "\n",
    "**Compensating Coils**\n",
    "\n",
    "We also discussed the optimal setup and placement for our compensation coils.  We want the coils large relative to the MOT to maximize the uniformity of the field at the MOT.  We considered elevating the black breadboard with some pillars to provide clearance for a large coil underneath it.  This might simplify placement of the various lenses and shutters we will need for the absorption imaging.\n",
    "\n",
    "**Control Boards**\n",
    "\n",
    "We will need to put together seperate control boards for each of the compensation coils, as each one will have to individually be adjusted and the resulting field measured.\n",
    "\n",
    "Furthermore, we will need a 'master board' to control the shutdown of the confinement magnetic field simultanously with the removal of the confining laser beams.  A timer will then need to open the shutter of the imaging laser, and trigger the camera to take images.\n",
    "\n",
    "**"
   ]
  },
  {
   "cell_type": "markdown",
   "metadata": {},
   "source": [
    "I love the power of the Book 2 and the stylus support in windows ink, but for work, I spend a lot of time in linux.  I am starting a new job with a group that does numerical simulations, and the code they use needs to run on a linux kernel.  Not entirely sure what they mean by that, but I will learn.  I would like to buy the book 2, and I asked about the ability to dual boot (which I have done on other machines before), but they suggested i look up the Windows subsystem for linux.  Is  that something microsoft does that allows me to run a linux distro on the machine, or is it just an emulator or something that isnt really linux?"
   ]
  }
 ],
 "metadata": {
  "kernelspec": {
   "display_name": "Python 3",
   "language": "python",
   "name": "python3"
  },
  "language_info": {
   "codemirror_mode": {
    "name": "ipython",
    "version": 3
   },
   "file_extension": ".py",
   "mimetype": "text/x-python",
   "name": "python",
   "nbconvert_exporter": "python",
   "pygments_lexer": "ipython3",
   "version": "3.5.2"
  }
 },
 "nbformat": 4,
 "nbformat_minor": 2
}
