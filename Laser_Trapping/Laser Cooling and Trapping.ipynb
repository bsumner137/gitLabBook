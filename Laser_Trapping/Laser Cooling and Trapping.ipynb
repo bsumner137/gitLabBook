{
 "cells": [
  {
   "cell_type": "markdown",
   "metadata": {},
   "source": [
    "# 13 Feb 2017\n",
    "**SETUP**\n",
    "Going through equipment manuals and ensuring proper setup of equipment\n",
    "* Removed RF output to RF input cable between laser controller and laser servo.  The equipment manual states that this is for peak lock only.\n",
    "* Connected Temp Servo input/output as per recommendation of manual for greater long term stability.\n",
    "* "
   ]
  }
 ],
 "metadata": {
  "kernelspec": {
   "display_name": "Python 3",
   "language": "python",
   "name": "python3"
  },
  "language_info": {
   "codemirror_mode": {
    "name": "ipython",
    "version": 3
   },
   "file_extension": ".py",
   "mimetype": "text/x-python",
   "name": "python",
   "nbconvert_exporter": "python",
   "pygments_lexer": "ipython3",
   "version": "3.5.2"
  }
 },
 "nbformat": 4,
 "nbformat_minor": 2
}
