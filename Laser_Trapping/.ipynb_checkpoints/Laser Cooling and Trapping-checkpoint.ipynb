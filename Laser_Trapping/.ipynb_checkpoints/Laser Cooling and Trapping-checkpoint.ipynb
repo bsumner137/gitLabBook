{
 "cells": [
  {
   "cell_type": "code",
   "execution_count": 4,
   "metadata": {},
   "outputs": [],
   "source": [
    "import numpy as np\n",
    "import matplotlib.pyplot as plt"
   ]
  },
  {
   "cell_type": "markdown",
   "metadata": {},
   "source": [
    "# 13 Feb 2017\n",
    "**SETUP**\n",
    "\n",
    "Going through equipment manuals and ensuring proper setup of equipment\n",
    "* Removed RF output to RF input cable between laser controller and laser servo.  The equipment manual states that this is for peak lock only.\n",
    "* Connected Temp Servo input/output as per recommendation of manual for greater long term stability.\n",
    "* Tuned lasers using controller until trapping laser is on redshifted side of ${}^{87}\\text{Rb}\\quad \\text{D}_2$ $5^2\\text{P}_{3/2}\\quad F'=3$ line, and pump was on redshifted side of ${}^{87}\\text{Rb}\\quad \\text{D}_1$ $5^2\\text{P}_{3/2}\\quad F'=2$ line.\n",
    "* Locked lasers using the servo by adjusting the DC offset until the desired portion of each line was at $0\\,V$, and then locked the lasers.\n",
    "* Confirmed the lasers are not hopping by ensuring the LD OUT line remained less than $50\\,mV$."
   ]
  },
  {
   "cell_type": "markdown",
   "metadata": {},
   "source": [
    "# 15 Feb 2017\n",
    "**SETUP**\n",
    "* Performed steps mentioned in previous section\n",
    "* We adjusted the mirrors on the table to ensure the beams all crossed in the center of the chamber.  Because the beams are expanded, it is not as difficult to adjust, but we made sure the return beam reflected directly backwards as much as possible by checking for laser light around the perimeter of the primary director.\n",
    "* This Cold Quanta MOT has a different back panel than the manual.  KEEP ION PUMP ON.  We adjusted the dispenser current to approximately $3.3\\,mA$ in keeping with the Cold Quanta manual.  However, there are no controls for the coils.\n",
    "* We found a power supply controlling the coils, and turned it on.  We adjusted the current and voltage of the power supply for the coils to $1\\,V$ and $1\\,mA$.\n",
    "* After turning on the dispenser for approximately $30$ s, and toggling the polarization of the trapping beams, we noticed a glowing light on the CCTV observing the trap.\n",
    "    * We blocked one of the trapping beams and noticed the light went away.  After removing the block, the light came back over the course of several seconds.  Jun suggested that this is a way to determine the stability of our trap.\n",
    "    * by adjusting the current and voltage of the coil power supply, we noticed that as we lowered these values, the ions flattened out perpindicular to the coil axis.\n",
    "* Over the next few days, we will devise several experiments and observations to make so we can have fun with this experiment\n",
    "    * Is there a quantitative way to measure the brightness of the trap?  Doing so could allow us to measure the filling time of the trap\n"
   ]
  },
  {
   "cell_type": "markdown",
   "metadata": {},
   "source": [
    "# 20 Feb 2017\n",
    "\n",
    "**SETUP**\n",
    "* We performed the same setup as before and immediately obtained a MOT.  We will now build an imaging system to collect the light from the trapped atoms and measure the intensity of this light vs time.\n",
    "* Our MOT is $\\approx \\, 5.1$ cm from the nearest we can place the lens.  We use the below program to determine the optimal placement of lens and collector in the $\\approx \\, 220$ mm available to us."
   ]
  },
  {
   "cell_type": "code",
   "execution_count": 10,
   "metadata": {},
   "outputs": [
    {
     "name": "stdout",
     "output_type": "stream",
     "text": [
      "45.833333333333336\n"
     ]
    }
   ],
   "source": [
    "def lenseq(f,xo):\n",
    "    \"\"\"\n",
    "    Given a lens focal length and location (giving xo), returns the image location xi\n",
    "    \"\"\"\n",
    "    return xo*f/(xo-f)\n",
    "\n",
    "lenses = np.array([25,50,75,100])\n",
    "dist = np.linspace(50,220,25.4)\n",
    "\n",
    "# for i in lenses:\n",
    "#     for j in dist:\n",
    "#         print(lenseq(i,j))\n",
    "        \n",
    "print(lenseq(25, 55))\n"
   ]
  },
  {
   "cell_type": "code",
   "execution_count": null,
   "metadata": {},
   "outputs": [],
   "source": []
  }
 ],
 "metadata": {
  "kernelspec": {
   "display_name": "Python 3",
   "language": "python",
   "name": "python3"
  },
  "language_info": {
   "codemirror_mode": {
    "name": "ipython",
    "version": 3
   },
   "file_extension": ".py",
   "mimetype": "text/x-python",
   "name": "python",
   "nbconvert_exporter": "python",
   "pygments_lexer": "ipython3",
   "version": "3.5.2"
  }
 },
 "nbformat": 4,
 "nbformat_minor": 2
}
