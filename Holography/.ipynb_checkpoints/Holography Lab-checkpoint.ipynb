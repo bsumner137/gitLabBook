{
 "cells": [
  {
   "cell_type": "markdown",
   "metadata": {},
   "source": [
    "# Holography Lab"
   ]
  },
  {
   "cell_type": "markdown",
   "metadata": {},
   "source": [
    "## 15 March\n",
    "\n",
    "### Setup\n",
    "\n",
    "We want to ensure the geometry of the table setup ensures the maximum amount of light scattered from the target finds its way to the holography plate.  This will give the plate much stronger intensities on the plate, and increase the 'contrast' between the fringes when they are imaged on the plate.  To accomplish this, we want the angle between the reference beam and the scattered light collected by the plate to be as small as possible.\n",
    "\n",
    "One difficulty we have with this optimization is the width of the objective holders.  This width will block the beams coming from the laser.  The setup shown in figure results in an optimal illumination of the object to be imaged relative the location of the holographic plate.\n",
    "\n",
    "In order to determine exposure time for the plate, we need to know the power of the laser, the fraction of the power diverted from the beam splitter, the area of the laser footprint on the holographic plate, and the energy per unit area needed to properly expose the plate.  For a first approximation, we can assume that the power from the imaged object is much less than that of the reference beam, as the object scatters most of the light on it away from the plate.\n",
    "\n",
    "We found a specification for the laser power on the laser to be 6.3 mW.  We choose to use this value without further calibration, and will correct if we have problems with exposure.  We \\emph{did} use a photodetector to determine the relative powers coming through the beam splitter so as to obtain the fraction of the laser power incident on the plate.  Once we have placed the objective lenses, we must then determine the area of the laser on the plate.  Even though the beam is gaussian, we can approximate the power of the footprint as roughly the maximum power divided by the sqrt(2).  This average power divided by the area of the footprint will be a reasonable approximation of the intensity of light on the plate.  We know from the data sheet that the plates must be exposed to 60 mJ/cm^2 of light for optimal exposure.  Putting this together, we know\n",
    "\n",
    "$$I\\Delta t = \\frac{P \\Delta t}{A} = \\text{exposure}$$\n",
    "\n",
    "Solving for $\\Delta t$, we get\n",
    "\n",
    "$$\\Delta t = \\frac{ A\\cdot\\text{exposure}}{P}$$\n",
    "\n",
    "This results in an approximate exposure time of \n",
    "\n",
    "$$\\Delta t = 6.5 \\text{ minutes}$$"
   ]
  },
  {
   "cell_type": "code",
   "execution_count": 8,
   "metadata": {},
   "outputs": [
    {
     "data": {
      "text/plain": [
       "108.0"
      ]
     },
     "execution_count": 8,
     "metadata": {},
     "output_type": "execute_result"
    }
   ],
   "source": [
    "49.5+40+18.5"
   ]
  },
  {
   "cell_type": "markdown",
   "metadata": {},
   "source": [
    "* Can we image writing on a hologram\n",
    "* What is the difference between a highly reflective object's image and the same one 'blacked out', or even red v blue?\n"
   ]
  },
  {
   "cell_type": "code",
   "execution_count": 9,
   "metadata": {},
   "outputs": [
    {
     "data": {
      "text/plain": [
       "104"
      ]
     },
     "execution_count": 9,
     "metadata": {},
     "output_type": "execute_result"
    }
   ],
   "source": [
    "42+62"
   ]
  },
  {
   "cell_type": "code",
   "execution_count": 10,
   "metadata": {},
   "outputs": [
    {
     "data": {
      "text/plain": [
       "107.5"
      ]
     },
     "execution_count": 10,
     "metadata": {},
     "output_type": "execute_result"
    }
   ],
   "source": [
    "42.5+65"
   ]
  },
  {
   "cell_type": "code",
   "execution_count": 11,
   "metadata": {},
   "outputs": [
    {
     "data": {
      "text/plain": [
       "108"
      ]
     },
     "execution_count": 11,
     "metadata": {},
     "output_type": "execute_result"
    }
   ],
   "source": [
    "50+40+18"
   ]
  },
  {
   "cell_type": "code",
   "execution_count": 12,
   "metadata": {},
   "outputs": [],
   "source": [
    "import numpy as np\n",
    "import matplotlib.pyplot as plt"
   ]
  },
  {
   "cell_type": "code",
   "execution_count": 22,
   "metadata": {},
   "outputs": [
    {
     "data": {
      "text/plain": [
       "6.528735632183908"
      ]
     },
     "execution_count": 22,
     "metadata": {},
     "output_type": "execute_result"
    }
   ],
   "source": [
    "# A = np.pi*(4.5)**2\n",
    "A = 20\n",
    "frac = 1.45/(1.39+1.45)\n",
    "P = 6*frac\n",
    "\n",
    "A/P"
   ]
  },
  {
   "cell_type": "code",
   "execution_count": 18,
   "metadata": {},
   "outputs": [
    {
     "data": {
      "text/plain": [
       "37.5"
      ]
     },
     "execution_count": 18,
     "metadata": {},
     "output_type": "execute_result"
    }
   ],
   "source": [
    "7.5*5"
   ]
  },
  {
   "cell_type": "code",
   "execution_count": 19,
   "metadata": {},
   "outputs": [
    {
     "data": {
      "text/plain": [
       "63.61725123519331"
      ]
     },
     "execution_count": 19,
     "metadata": {},
     "output_type": "execute_result"
    }
   ],
   "source": [
    "A"
   ]
  },
  {
   "cell_type": "code",
   "execution_count": null,
   "metadata": {},
   "outputs": [],
   "source": []
  }
 ],
 "metadata": {
  "kernelspec": {
   "display_name": "Python 3",
   "language": "python",
   "name": "python3"
  },
  "language_info": {
   "codemirror_mode": {
    "name": "ipython",
    "version": 3
   },
   "file_extension": ".py",
   "mimetype": "text/x-python",
   "name": "python",
   "nbconvert_exporter": "python",
   "pygments_lexer": "ipython3",
   "version": "3.5.2"
  }
 },
 "nbformat": 4,
 "nbformat_minor": 2
}
