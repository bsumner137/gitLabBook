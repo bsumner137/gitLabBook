{
 "cells": [
  {
   "cell_type": "markdown",
   "metadata": {},
   "source": [
    "# Holography Lab"
   ]
  },
  {
   "cell_type": "markdown",
   "metadata": {},
   "source": [
    "## 15 March\n",
    "\n",
    "### Setup\n",
    "\n",
    "We want to ensure the geometry of the table setup ensures the maximum amount of light scattered from the target finds its way to the holography plate.  This will give the plate much stronger intensities on the plate, and increase the 'contrast' between the fringes when they are imaged on the plate.  To accomplish this, we want the angle between the reference beam and the scattered light collected by the plate to be as small as possible.\n",
    "\n",
    "One difficulty we have with this optimization is the width of the objective holders.  This width will block the beams coming from the laser.  The setup shown in figure results in an optimal illumination of the object to be imaged relative the location of the holographic plate.\n",
    "\n",
    "![Experimental Setup](Setup.jpg)\n",
    "\n",
    "In order to determine exposure time for the plate, we need to know the power of the laser, the fraction of the power diverted from the beam splitter, the area of the laser footprint on the holographic plate, and the energy per unit area needed to properly expose the plate.  For a first approximation, we can assume that the power from the imaged object is much less than that of the reference beam, as the object scatters most of the light on it away from the plate.\n",
    "\n",
    "We found a specification for the laser power on the laser to be 6.3 mW.  We choose to use this value without further calibration, and will correct if we have problems with exposure.  We \\emph{did} use a photodetector to determine the relative powers coming through the beam splitter so as to obtain the fraction of the laser power incident on the plate.  Once we have placed the objective lenses, we must then determine the area of the laser on the plate.  Even though the beam is gaussian, we can approximate the power of the footprint as roughly the maximum power divided by the sqrt(2).  This average power divided by the area of the footprint will be a reasonable approximation of the intensity of light on the plate.  We know from the data sheet that the plates must be exposed to 60 mJ/cm^2 of light for optimal exposure.  Putting this together, we know\n",
    "\n",
    "$$I\\Delta t = \\frac{P \\Delta t}{A} = \\text{exposure}$$\n",
    "\n",
    "Solving for $\\Delta t$, we get\n",
    "\n",
    "$$\\Delta t = \\frac{ A\\cdot\\text{exposure}}{P}$$\n",
    "\n",
    "This results in an approximate exposure time of \n",
    "\n",
    "$$\\Delta t = 6.5 \\text{ minutes}$$"
   ]
  },
  {
   "cell_type": "markdown",
   "metadata": {},
   "source": [
    "Note:  This is an estimation that assumes minimal contribution from the scattered light to the exposure of the plate.  As we deal with highly reflective objects, this time may need to be adjusted."
   ]
  },
  {
   "cell_type": "markdown",
   "metadata": {},
   "source": [
    "* Can we image writing on a hologram\n",
    "* What is the difference between a highly reflective object's image and the same one 'blacked out', or even red v blue?\n"
   ]
  },
  {
   "cell_type": "code",
   "execution_count": 6,
   "metadata": {},
   "outputs": [
    {
     "data": {
      "text/plain": [
       "6.528735632183908"
      ]
     },
     "execution_count": 6,
     "metadata": {},
     "output_type": "execute_result"
    }
   ],
   "source": [
    "# A = np.pi*(4.5)**2\n",
    "A = 20\n",
    "frac = 1.45/(1.39+1.45)\n",
    "P = 6*frac\n",
    "\n",
    "A/P"
   ]
  },
  {
   "cell_type": "markdown",
   "metadata": {},
   "source": [
    "## March 20"
   ]
  },
  {
   "cell_type": "markdown",
   "metadata": {},
   "source": [
    "We imaged an R2-D2 pewter object for the 6.5 seconds, following the procedure outlined below:\n",
    "\n",
    "**Procedure**\n",
    "\n",
    "* Ensure the path length differences from the beam splitter to the holography plate are as close as possible ($\\pm$ 2 cm)\n",
    "* Block laser at source and turn off all lights\n",
    "* Place holography plate in its holder\n",
    "* Remove laser block and start timer\n",
    "* After 6.5 minutes, block beam 1 after beam splitter and remove object\n",
    "* Check quality of holograph\n",
    "\n",
    "We obtained the below holograms\n",
    "![title](r2d2-1.jpg)\n",
    "![title](r2d2_2.jpg)"
   ]
  },
  {
   "cell_type": "markdown",
   "metadata": {},
   "source": [
    "The detail on the holograms is quite impressive.  Not only can we see the large engraved 'STAR WARS' letters on the base of the object, but we can also see the finder detailed etchings on the body of the droid."
   ]
  },
  {
   "cell_type": "markdown",
   "metadata": {},
   "source": [
    "We tried imaging a test tube containing what appears to be iron filings.  The intention was to see if there would be any scattering effects from the random orientation of the filings.  However, the holograph we obtained had too much contrast to see much detail in the filings.  We suppose this is due to the strong reflection coming from the glass of the container, which effectively 'washes out' the detail coming from the light scattered from the filings.\n",
    "\n",
    "In future 'photographs', we would like to further explore this filing, but we would need to modify the container to limit the differences between the filings and any ambient reflections.\n",
    "\n",
    "Additionally, we created a small angle in the holography setup to maximize the collection of light scattered from the surface of the object.  However, with the current angles, we found that the plate also collected light from the beam splitter and other sources.  An improved setup would block as much light as possible from anything other than the object being imaged."
   ]
  },
  {
   "cell_type": "code",
   "execution_count": null,
   "metadata": {},
   "outputs": [],
   "source": []
  }
 ],
 "metadata": {
  "kernelspec": {
   "display_name": "Python 3",
   "language": "python",
   "name": "python3"
  },
  "language_info": {
   "codemirror_mode": {
    "name": "ipython",
    "version": 3
   },
   "file_extension": ".py",
   "mimetype": "text/x-python",
   "name": "python",
   "nbconvert_exporter": "python",
   "pygments_lexer": "ipython3",
   "version": "3.5.2"
  }
 },
 "nbformat": 4,
 "nbformat_minor": 2
}
